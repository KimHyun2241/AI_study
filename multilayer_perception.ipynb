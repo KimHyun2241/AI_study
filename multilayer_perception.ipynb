{
 "cells": [
  {
   "cell_type": "code",
   "execution_count": 1,
   "metadata": {},
   "outputs": [],
   "source": [
    "import numpy as np\n",
    "from tensorflow.keras import datasets, utils"
   ]
  },
  {
   "cell_type": "code",
   "execution_count": 2,
   "metadata": {},
   "outputs": [],
   "source": [
    "# 데이터 준비하기\n",
    "\n",
    "#1\n",
    "(x_train, y_train), (x_test, y_test) = datasets.cifar10.load_data()\n",
    "\n",
    "NUM_CLASSES = 10\n",
    "#2\n",
    "x_train = x_train.astype('float32') / 255.0\n",
    "x_test = x_test.astype('float32') / 255.0\n",
    "#3\n",
    "y_train = utils.to_categorical(y_train, NUM_CLASSES)\n",
    "y_test = utils.to_categorical(y_test, NUM_CLASSES)"
   ]
  },
  {
   "cell_type": "markdown",
   "metadata": {},
   "source": [
    "### #1.\n",
    "CIFAR-10 데이터셋을 로드한다.  \n",
    "x_train과 x_test는 각각 [50000, 32, 32, 3]와 [10000, 32, 32, 3] 크기의 넘파이 배열이다.  \n",
    "y_train과 y_test는 각각 [50000, 1]과 [10000, 1] 크기의 넘파이 배열이다.\n",
    "각 이미지의 클래스에 대해 0~9 범위의 정수 레이블을 담는다.\n",
    "\n",
    "### #2.\n",
    "픽셀 채널 값이 0과 1사이가 되도록 이미지의 스케일을 조정\n",
    "\n",
    "### #3.\n",
    "**레이블을 원 핫 인코딩한다.**  \n",
    "y_train과 y_test의 크기는 각각 [50000, 10]과 [10000, 10]이 된다."
   ]
  },
  {
   "cell_type": "code",
   "execution_count": 3,
   "metadata": {},
   "outputs": [
    {
     "data": {
      "text/plain": [
       "0.36862746"
      ]
     },
     "execution_count": 3,
     "metadata": {},
     "output_type": "execute_result"
    }
   ],
   "source": [
    "# 인덱스가 54인 이미지의 (12, 13) 위치에 있는 픽셀의 녹색 채널(1) 값\n",
    "x_train[54, 12, 13, 1]"
   ]
  },
  {
   "cell_type": "code",
   "execution_count": 4,
   "metadata": {},
   "outputs": [],
   "source": [
    "# 모델 만들기\n",
    "\n",
    "from tensorflow.keras import layers, models\n",
    "\n",
    "input_layer = layers.Input(shape=(32, 32, 3))\n",
    "x = layers.Flatten()(input_layer)\n",
    "x = layers.Dense(units=200, activation = 'relu')(x)\n",
    "x = layers.Dense(units=150, activation = 'relu')(x)\n",
    "output_layer = layers.Dense(units=10, activation = 'softmax')(x)\n",
    "# Model 클래스를 사용하여 모델의 입력과 출력 층을 정의\n",
    "model = models.Model(input_layer, output_layer)"
   ]
  },
  {
   "cell_type": "code",
   "execution_count": 7,
   "metadata": {},
   "outputs": [
    {
     "name": "stdout",
     "output_type": "stream",
     "text": [
      "Model: \"model\"\n",
      "_________________________________________________________________\n",
      " Layer (type)                Output Shape              Param #   \n",
      "=================================================================\n",
      " input_1 (InputLayer)        [(None, 32, 32, 3)]       0         \n",
      "                                                                 \n",
      " flatten (Flatten)           (None, 3072)              0         \n",
      "                                                                 \n",
      " dense (Dense)               (None, 200)               614600    \n",
      "                                                                 \n",
      " dense_1 (Dense)             (None, 150)               30150     \n",
      "                                                                 \n",
      " dense_2 (Dense)             (None, 10)                1510      \n",
      "                                                                 \n",
      "=================================================================\n",
      "Total params: 646260 (2.47 MB)\n",
      "Trainable params: 646260 (2.47 MB)\n",
      "Non-trainable params: 0 (0.00 Byte)\n",
      "_________________________________________________________________\n"
     ]
    }
   ],
   "source": [
    "# Dense 층의 일부로 정의된 렐루 활성화 함수\n",
    "x = layers.Dense(units=200, activation = 'relu')(x)\n",
    "x = layers.Dense(units=200)(x)\n",
    "x = layers.Activation('relu')(x)\n",
    "\n",
    "model.summary()"
   ]
  },
  {
   "cell_type": "code",
   "execution_count": null,
   "metadata": {},
   "outputs": [],
   "source": []
  }
 ],
 "metadata": {
  "kernelspec": {
   "display_name": "AI_study",
   "language": "python",
   "name": "python3"
  },
  "language_info": {
   "codemirror_mode": {
    "name": "ipython",
    "version": 3
   },
   "file_extension": ".py",
   "mimetype": "text/x-python",
   "name": "python",
   "nbconvert_exporter": "python",
   "pygments_lexer": "ipython3",
   "version": "3.10.10"
  }
 },
 "nbformat": 4,
 "nbformat_minor": 2
}
